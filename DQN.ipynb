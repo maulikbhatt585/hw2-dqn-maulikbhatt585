{
 "cells": [
  {
   "cell_type": "code",
   "execution_count": 1,
   "id": "035d8f17",
   "metadata": {},
   "outputs": [],
   "source": [
    "import torch\n",
    "import torch.nn as nn\n",
    "import torch.nn.functional as F\n",
    "import torch.optim as optim\n",
    "import numpy as np\n",
    "import discreteaction_pendulum\n",
    "import random\n",
    "from collections import namedtuple, deque\n",
    "from matplotlib import pyplot as plt\n",
    "\n",
    "batch_size = 64\n",
    "gamma = 0.95\n",
    "eps_start = 1\n",
    "eps_end = 0.1"
   ]
  },
  {
   "cell_type": "code",
   "execution_count": 2,
   "id": "d882e6e9",
   "metadata": {},
   "outputs": [],
   "source": [
    "class DQN(nn.Module):\n",
    "\n",
    "    def __init__(self, n_states, n_actions):\n",
    "        super().__init__()\n",
    "        self.layer1 = nn.Linear(n_states, 64)\n",
    "        self.layer2 = nn.Linear(64, 64)\n",
    "        self.out = nn.Linear(64,n_actions)\n",
    "\n",
    "    def forward(self, x):\n",
    "        # Max pooling over a (2, 2) window\n",
    "        x = F.tanh(self.layer1(x))\n",
    "        x = F.tanh(self.layer2(x))\n",
    "        x = self.out(x)\n",
    "        return x "
   ]
  },
  {
   "cell_type": "code",
   "execution_count": 3,
   "id": "ce848a31",
   "metadata": {},
   "outputs": [],
   "source": [
    "Transition = namedtuple('Transition',\n",
    "                        ('state', 'action', 'next_state', 'reward', 'done'))\n",
    "\n",
    "class ReplayMemory(object):\n",
    "\n",
    "    def __init__(self, capacity):\n",
    "        self.memory = deque([], maxlen=capacity)\n",
    "\n",
    "    def push(self, *args):\n",
    "        \"\"\"Save a transition\"\"\"\n",
    "        self.memory.append(Transition(*args))\n",
    "\n",
    "    def sample(self, batch_size):\n",
    "        return random.sample(self.memory, batch_size)\n",
    "\n",
    "    def __len__(self):\n",
    "        return len(self.memory)\n",
    "\n",
    "def eps_decay(itr,num_episodes):\n",
    "    if itr>=num_episodes*100:\n",
    "        return eps_end\n",
    "    else:\n",
    "        return (eps_end - eps_start)*itr/(num_episodes*100) + eps_start"
   ]
  },
  {
   "cell_type": "code",
   "execution_count": 4,
   "id": "a2ee533e",
   "metadata": {},
   "outputs": [],
   "source": [
    "env = discreteaction_pendulum.Pendulum()"
   ]
  },
  {
   "cell_type": "code",
   "execution_count": 5,
   "id": "ef8dd3f2",
   "metadata": {},
   "outputs": [],
   "source": [
    "n_actions = env.num_actions\n",
    "n_states = env.num_states"
   ]
  },
  {
   "cell_type": "code",
   "execution_count": 6,
   "id": "cb8456a6",
   "metadata": {},
   "outputs": [
    {
     "data": {
      "text/plain": [
       "<All keys matched successfully>"
      ]
     },
     "execution_count": 6,
     "metadata": {},
     "output_type": "execute_result"
    }
   ],
   "source": [
    "policy_net = DQN(n_states, n_actions)\n",
    "target_net = DQN(n_states, n_actions)\n",
    "target_net.load_state_dict(policy_net.state_dict())"
   ]
  },
  {
   "cell_type": "code",
   "execution_count": 7,
   "id": "45ac272a",
   "metadata": {},
   "outputs": [],
   "source": [
    "optimizer = optim.RMSprop(policy_net.parameters(), lr=0.00025, alpha=0.95)\n",
    "memory = ReplayMemory(1000000)"
   ]
  },
  {
   "cell_type": "code",
   "execution_count": 8,
   "id": "0fcbf64a",
   "metadata": {},
   "outputs": [],
   "source": [
    "def action(state):\n",
    "    p = np.random.random()\n",
    "    if p < eps:\n",
    "        a = torch.tensor([[random.randrange(n_actions)]], dtype=torch.long)\n",
    "    else:\n",
    "        a = policy_net(state).max(1)[1].view(1, 1)\n",
    "        \n",
    "    return a"
   ]
  },
  {
   "cell_type": "code",
   "execution_count": 9,
   "id": "a5640b67",
   "metadata": {},
   "outputs": [],
   "source": []
  },
  {
   "cell_type": "code",
   "execution_count": 13,
   "id": "ac926dd6",
   "metadata": {},
   "outputs": [],
   "source": [
    "num_episodes = 100\n",
    "\n",
    "reward_array = np.zeros(num_episodes)\n",
    "\n",
    "itr = 0\n",
    "\n",
    "for i_episode in range(num_episodes):\n",
    "    # Initialize the environment and get it's state\n",
    "    s = env.reset()\n",
    "    s = torch.tensor(s, dtype=torch.float32).unsqueeze(0)\n",
    "    done = False\n",
    "    time = 0\n",
    "    while not done:\n",
    "        eps = eps_decay(itr,num_episodes)\n",
    "        a = action(s)\n",
    "        s_next, r, done = env.step(a.item())\n",
    "        r = torch.tensor([r])\n",
    "        \n",
    "        reward_array[i_episode] += gamma**(time)*r\n",
    "        \n",
    "        time += 1\n",
    "        \n",
    "        s_next = torch.tensor(s_next, dtype=torch.float32).unsqueeze(0)\n",
    "        \n",
    "\n",
    "        memory.push(s, a, s_next, r, done)\n",
    "\n",
    "        # Move to the next state\n",
    "        s = s_next\n",
    "\n",
    "        # Perform one step of the optimization (on the policy network)\n",
    "        update_network()\n",
    "        \n",
    "        itr+=1\n",
    "        \n",
    "        if itr%1000 == 0:\n",
    "            target_net.load_state_dict(policy_net.state_dict())\n",
    "\n",
    "        # Soft update of the target network's weights\n",
    "        # θ′ ← τ θ + (1 −τ )θ′\n",
    "#         target_net_state_dict = target_net.state_dict()\n",
    "#         policy_net_state_dict = policy_net.state_dict()\n",
    "#         for key in policy_net_state_dict:\n",
    "#             target_net_state_dict[key] = policy_net_state_dict[key]*tau + target_net_state_dict[key]*(1-tau)\n",
    "#         target_net.load_state_dict(target_net_state_dict)"
   ]
  },
  {
   "cell_type": "code",
   "execution_count": 14,
   "id": "bd8ec6fa",
   "metadata": {},
   "outputs": [
    {
     "data": {
      "text/plain": [
       "10000"
      ]
     },
     "execution_count": 14,
     "metadata": {},
     "output_type": "execute_result"
    },
    {
     "data": {
      "image/png": "[encoded data removed]",
      "text/plain": [
       "<Figure size 432x288 with 1 Axes>"
      ]
     },
     "metadata": {
      "needs_background": "light"
     },
     "output_type": "display_data"
    }
   ],
   "source": [
    "plt.plot(reward_array)\n",
    "#plt.ylim(0,100)\n",
    "itr"
   ]
  },
  {
   "cell_type": "code",
   "execution_count": null,
   "id": "c93d7025",
   "metadata": {},
   "outputs": [],
   "source": []
  },
  {
   "cell_type": "code",
   "execution_count": 21,
   "id": "59f7c8bf",
   "metadata": {},
   "outputs": [],
   "source": [
    "policy = lambda s: (policy_net(torch.tensor(s, dtype=torch.float32).unsqueeze(0)).max(1)[1].view(1, 1)).item()"
   ]
  },
  {
   "cell_type": "code",
   "execution_count": 22,
   "id": "e09f0156",
   "metadata": {},
   "outputs": [
    {
     "name": "stderr",
     "output_type": "stream",
     "text": [
      "MovieWriter imagemagick unavailable; using Pillow instead.\n"
     ]
    }
   ],
   "source": [
    "env.video(policy, filename='figures/test_discreteaction_pendulum_1.gif')"
   ]
  },
  {
   "cell_type": "code",
   "execution_count": 15,
   "id": "a0308220",
   "metadata": {},
   "outputs": [
    {
     "name": "stderr",
     "output_type": "stream",
     "text": [
      "MovieWriter imagemagick unavailable; using Pillow instead.\n"
     ]
    },
    {
     "data": {
      "image/png": "[encoded data removed]",
      "text/plain": [
       "<Figure size 360x288 with 1 Axes>"
      ]
     },
     "metadata": {
      "needs_background": "light"
     },
     "output_type": "display_data"
    }
   ],
   "source": [
    "import matplotlib.animation as animation\n",
    "\n",
    "s = env.reset()\n",
    "s_traj = [s]\n",
    "done = False\n",
    "while not done:\n",
    "    s = torch.tensor(s, dtype=torch.float32).unsqueeze(0)\n",
    "    (s, r, done) = env.step(policy_net(s).max(1)[1].view(1, 1).item())\n",
    "    s_traj.append(s)\n",
    "\n",
    "fig = plt.figure(figsize=(5, 4))\n",
    "ax = fig.add_subplot(111, autoscale_on=False, xlim=(-1.2, 1.2), ylim=(-1.2, 1.2))\n",
    "ax.set_aspect('equal')\n",
    "ax.grid()\n",
    "line, = ax.plot([], [], 'o-', lw=2)\n",
    "text = ax.set_title('')\n",
    "\n",
    "def animate(i):\n",
    "    theta = s_traj[i][0]\n",
    "    line.set_data([0, -np.sin(theta)], [0, np.cos(theta)])\n",
    "    text.set_text(f'time = {i * env.dt:3.1f}')\n",
    "    return line, text\n",
    "\n",
    "anim = animation.FuncAnimation(fig, animate, len(s_traj), interval=(1000 * env.dt), blit=True, repeat=False)\n",
    "anim.save(\"Pendulum_1.gif\", writer='imagemagick', fps=10)"
   ]
  },
  {
   "cell_type": "code",
   "execution_count": 16,
   "id": "7f7b46f1",
   "metadata": {},
   "outputs": [],
   "source": [
    "torch.save(policy_net.state_dict(), \"latest_good_network_1\")"
   ]
  },
  {
   "cell_type": "code",
   "execution_count": null,
   "id": "c92c6189",
   "metadata": {},
   "outputs": [],
   "source": []
  },
  {
   "cell_type": "code",
   "execution_count": 10,
   "id": "1e4f1dce",
   "metadata": {},
   "outputs": [
    {
     "data": {
      "text/plain": [
       "<All keys matched successfully>"
      ]
     },
     "execution_count": 10,
     "metadata": {},
     "output_type": "execute_result"
    }
   ],
   "source": [
    "policy_net.load_state_dict(torch.load(\"latest_good_network\"))"
   ]
  },
  {
   "cell_type": "code",
   "execution_count": 11,
   "id": "3caa9411",
   "metadata": {},
   "outputs": [
    {
     "data": {
      "text/plain": [
       "DQN(\n",
       "  (layer1): Linear(in_features=2, out_features=64, bias=True)\n",
       "  (layer2): Linear(in_features=64, out_features=64, bias=True)\n",
       "  (out): Linear(in_features=64, out_features=31, bias=True)\n",
       ")"
      ]
     },
     "execution_count": 11,
     "metadata": {},
     "output_type": "execute_result"
    }
   ],
   "source": [
    "policy_net"
   ]
  },
  {
   "cell_type": "code",
   "execution_count": 12,
   "id": "0c0cfeae",
   "metadata": {},
   "outputs": [
    {
     "name": "stderr",
     "output_type": "stream",
     "text": [
      "MovieWriter imagemagick unavailable; using Pillow instead.\n"
     ]
    },
    {
     "data": {
      "image/png": "[encoded data removed]",
      "text/plain": [
       "<Figure size 360x288 with 1 Axes>"
      ]
     },
     "metadata": {
      "needs_background": "light"
     },
     "output_type": "display_data"
    }
   ],
   "source": [
    "import matplotlib.animation as animation\n",
    "\n",
    "s = env.reset()\n",
    "s_traj = [s]\n",
    "done = False\n",
    "while not done:\n",
    "    s = torch.tensor(s, dtype=torch.float32).unsqueeze(0)\n",
    "    (s, r, done) = env.step(policy_net(s).max(1)[1].view(1, 1).item())\n",
    "    s_traj.append(s)\n",
    "\n",
    "fig = plt.figure(figsize=(5, 4))\n",
    "ax = fig.add_subplot(111, autoscale_on=False, xlim=(-1.2, 1.2), ylim=(-1.2, 1.2))\n",
    "ax.set_aspect('equal')\n",
    "ax.grid()\n",
    "line, = ax.plot([], [], 'o-', lw=2)\n",
    "text = ax.set_title('')\n",
    "\n",
    "def animate(i):\n",
    "    theta = s_traj[i][0]\n",
    "    line.set_data([0, -np.sin(theta)], [0, np.cos(theta)])\n",
    "    text.set_text(f'time = {i * env.dt:3.1f}')\n",
    "    return line, text\n",
    "\n",
    "anim = animation.FuncAnimation(fig, animate, len(s_traj), interval=(1000 * env.dt), blit=True, repeat=False)\n",
    "anim.save(\"Pendulum_1.gif\", writer='imagemagick', fps=10)"
   ]
  },
  {
   "cell_type": "code",
   "execution_count": null,
   "id": "7af73fc6",
   "metadata": {},
   "outputs": [],
   "source": []
  }
 ],
 "metadata": {
  "kernelspec": {
   "display_name": "Python 3 (ipykernel)",
   "language": "python",
   "name": "python3"
  },
  "language_info": {
   "codemirror_mode": {
    "name": "ipython",
    "version": 3
   },
   "file_extension": ".py",
   "mimetype": "text/x-python",
   "name": "python",
   "nbconvert_exporter": "python",
   "pygments_lexer": "ipython3",
   "version": "3.9.7"
  }
 },
 "nbformat": 4,
 "nbformat_minor": 5
}
